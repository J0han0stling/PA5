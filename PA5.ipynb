{
  "cells": [
    {
      "cell_type": "markdown",
      "metadata": {
        "id": "7IQfSeoCd59K"
      },
      "source": [
        "Hanna Olsson \n",
        "Johan Östling\n"
      ]
    },
    {
      "cell_type": "markdown",
      "metadata": {
        "id": "73SR_klphtqH"
      },
      "source": [
        "# Imports"
      ]
    },
    {
      "cell_type": "code",
      "execution_count": 9,
      "metadata": {
        "id": "jXwLSNMZhZSu"
      },
      "outputs": [],
      "source": [
        "import tensorflow as tf\n",
        "from tensorflow import keras\n",
        "from PIL import Image, ImageDraw\n",
        "from tensorflow.keras.preprocessing.image import ImageDataGenerator\n",
        "from matplotlib import pyplot as plt\n"
      ]
    },
    {
      "cell_type": "markdown",
      "metadata": {
        "id": "ifou8u5WlI5Y"
      },
      "source": [
        "**Mount to drive**"
      ]
    },
    {
      "cell_type": "markdown",
      "metadata": {
        "id": "Pcrasr2keG3p"
      },
      "source": [
        "# Introduction"
      ]
    },
    {
      "cell_type": "code",
      "execution_count": 5,
      "metadata": {
        "colab": {
          "base_uri": "https://localhost:8080/"
        },
        "id": "JcKnqza4eJCj",
        "outputId": "b726664d-2d2a-4b5e-bc01-bd8005c720e2"
      },
      "outputs": [
        {
          "name": "stdout",
          "output_type": "stream",
          "text": [
            "Found 1600 images belonging to 2 classes.\n"
          ]
        }
      ],
      "source": [
        "data_gen = ImageDataGenerator(rescale=1.0/255)\n",
        "#?usp=share_link\n",
        "imgdir = '/Users/hannaolsson/Desktop/PA5/a5_images' # or wherever you put them...\n",
        "img_size = 64\n",
        "batch_size = 32\n",
        "\n",
        "train_generator = data_gen.flow_from_directory(\n",
        "        imgdir + '/train',\n",
        "        target_size=(img_size, img_size),\n",
        "        batch_size=batch_size,\n",
        "        class_mode='binary',\n",
        "        classes=['other', 'car'],\n",
        "        seed=12345,\n",
        "        shuffle=True)"
      ]
    },
    {
      "cell_type": "code",
      "execution_count": 3,
      "metadata": {
        "id": "9PTHnRXBnj2T"
      },
      "outputs": [],
      "source": [
        "Xbatch, Ybatch = train_generator.next()"
      ]
    },
    {
      "cell_type": "code",
      "execution_count": 6,
      "metadata": {},
      "outputs": [
        {
          "data": {
            "text/plain": [
              "(32, 64, 64, 3)"
            ]
          },
          "execution_count": 6,
          "metadata": {},
          "output_type": "execute_result"
        }
      ],
      "source": [
        "Xbatch.shape"
      ]
    },
    {
      "cell_type": "code",
      "execution_count": 13,
      "metadata": {},
      "outputs": [
        {
          "data": {
            "text/plain": [
              "0.0"
            ]
          },
          "execution_count": 13,
          "metadata": {},
          "output_type": "execute_result"
        },
        {
          "data": {
            "image/png": "[encoded data removed]",
            "text/plain": [
              "<Figure size 432x288 with 1 Axes>"
            ]
          },
          "metadata": {
            "needs_background": "light"
          },
          "output_type": "display_data"
        }
      ],
      "source": [
        "plt.imshow(Xbatch[5]);\n",
        "Ybatch[5]"
      ]
    },
    {
      "cell_type": "markdown",
      "metadata": {
        "id": "h5_d22FweDmP"
      },
      "source": [
        "# Part 1: Training a convolutional neural network"
      ]
    },
    {
      "cell_type": "code",
      "execution_count": null,
      "metadata": {
        "id": "VTmJ4gx7eJfv"
      },
      "outputs": [],
      "source": []
    },
    {
      "cell_type": "markdown",
      "metadata": {
        "id": "ZT_XdXBHeKBE"
      },
      "source": [
        "# Part 2: Data augmentation"
      ]
    },
    {
      "cell_type": "code",
      "execution_count": null,
      "metadata": {
        "id": "PsxSQGOOeNDs"
      },
      "outputs": [],
      "source": []
    },
    {
      "cell_type": "markdown",
      "metadata": {
        "id": "L-u80lFtebcA"
      },
      "source": [
        "**Interlude: Applying a pre-trained convolutional neural network**"
      ]
    },
    {
      "cell_type": "code",
      "execution_count": null,
      "metadata": {
        "id": "x3VxIqX3ecoU"
      },
      "outputs": [],
      "source": []
    },
    {
      "cell_type": "markdown",
      "metadata": {
        "id": "xUbhb2O9eNXR"
      },
      "source": [
        "# Part 3: Using VGG-16 as a feature extractor"
      ]
    },
    {
      "cell_type": "code",
      "execution_count": null,
      "metadata": {
        "id": "3DXHJNPeeTay"
      },
      "outputs": [],
      "source": []
    },
    {
      "cell_type": "markdown",
      "metadata": {
        "id": "bEC7R_RkeTvm"
      },
      "source": [
        "# Part 4: Visualizing the learned features"
      ]
    },
    {
      "cell_type": "code",
      "execution_count": null,
      "metadata": {
        "id": "FC0SlR5PeXKX"
      },
      "outputs": [],
      "source": []
    }
  ],
  "metadata": {
    "colab": {
      "provenance": []
    },
    "kernelspec": {
      "display_name": "Python 3",
      "name": "python3"
    },
    "language_info": {
      "codemirror_mode": {
        "name": "ipython",
        "version": 3
      },
      "file_extension": ".py",
      "mimetype": "text/x-python",
      "name": "python",
      "nbconvert_exporter": "python",
      "pygments_lexer": "ipython3",
      "version": "3.9.12"
    }
  },
  "nbformat": 4,
  "nbformat_minor": 0
}
