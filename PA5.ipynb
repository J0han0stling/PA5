{
  "cells": [
    {
      "attachments": {},
      "cell_type": "markdown",
      "metadata": {
        "id": "7IQfSeoCd59K"
      },
      "source": [
        "Hanna Olsson \n",
        "Johan Östling\n"
      ]
    },
    {
      "attachments": {},
      "cell_type": "markdown",
      "metadata": {
        "id": "73SR_klphtqH"
      },
      "source": [
        "# Imports"
      ]
    },
    {
      "cell_type": "code",
      "execution_count": 3,
      "metadata": {
        "id": "jXwLSNMZhZSu"
      },
      "outputs": [],
      "source": [
        "import tensorflow as tf\n",
        "from tensorflow import keras\n",
        "from PIL import Image, ImageDraw\n",
        "from tensorflow.keras.preprocessing.image import ImageDataGenerator\n",
        "from matplotlib import pyplot as plt\n",
        "from keras.models import Sequential\n",
        "from keras.layers import Conv2D, MaxPooling2D, Flatten, Dense\n",
        "\n"
      ]
    },
    {
      "attachments": {},
      "cell_type": "markdown",
      "metadata": {
        "id": "ifou8u5WlI5Y"
      },
      "source": [
        "**Mount to drive**"
      ]
    },
    {
      "attachments": {},
      "cell_type": "markdown",
      "metadata": {
        "id": "Pcrasr2keG3p"
      },
      "source": [
        "# Introduction"
      ]
    },
    {
      "cell_type": "code",
      "execution_count": 6,
      "metadata": {
        "colab": {
          "base_uri": "https://localhost:8080/"
        },
        "id": "JcKnqza4eJCj",
        "outputId": "b726664d-2d2a-4b5e-bc01-bd8005c720e2"
      },
      "outputs": [
        {
          "name": "stdout",
          "output_type": "stream",
          "text": [
            "Found 1600 images belonging to 2 classes.\n",
            "Found 576 images belonging to 2 classes.\n"
          ]
        }
      ],
      "source": [
        "data_gen = ImageDataGenerator(rescale=1.0/255)\n",
        "#?usp=share_link\n",
        "imgdir = r'\\Users\\johan\\OneDrive\\Dokument\\GitHub\\PA5\\a5_images' # or wherever you put them...\n",
        "img_size = 64\n",
        "batch_size = 32\n",
        "\n",
        "\n",
        "train_generator = data_gen.flow_from_directory(\n",
        "        imgdir + '/train',\n",
        "        target_size=(img_size, img_size),\n",
        "        batch_size=batch_size,\n",
        "        class_mode='binary',\n",
        "        classes=['other', 'car'],\n",
        "        seed=12345,\n",
        "        shuffle=True)\n",
        "\n",
        "validation_generator = data_gen.flow_from_directory(\n",
        "        imgdir + '/validation',\n",
        "        target_size=(img_size, img_size),\n",
        "        batch_size=batch_size,\n",
        "        class_mode='binary',\n",
        "        classes=['other', 'car'],\n",
        "        seed=12345,\n",
        "        shuffle=True)"
      ]
    },
    {
      "cell_type": "code",
      "execution_count": 3,
      "metadata": {
        "id": "9PTHnRXBnj2T"
      },
      "outputs": [],
      "source": [
        "Xbatch, Ybatch = train_generator.next()"
      ]
    },
    {
      "cell_type": "code",
      "execution_count": 6,
      "metadata": {},
      "outputs": [
        {
          "data": {
            "text/plain": [
              "(32, 64, 64, 3)"
            ]
          },
          "execution_count": 6,
          "metadata": {},
          "output_type": "execute_result"
        }
      ],
      "source": [
        "Xbatch.shape"
      ]
    },
    {
      "cell_type": "code",
      "execution_count": 13,
      "metadata": {},
      "outputs": [
        {
          "data": {
            "text/plain": [
              "0.0"
            ]
          },
          "execution_count": 13,
          "metadata": {},
          "output_type": "execute_result"
        },
        {
          "data": {
            "image/png": "[encoded data removed]",
            "text/plain": [
              "<Figure size 432x288 with 1 Axes>"
            ]
          },
          "metadata": {
            "needs_background": "light"
          },
          "output_type": "display_data"
        }
      ],
      "source": [
        "plt.imshow(Xbatch[5]);\n",
        "Ybatch[5]"
      ]
    },
    {
      "attachments": {},
      "cell_type": "markdown",
      "metadata": {
        "id": "h5_d22FweDmP"
      },
      "source": [
        "# Part 1: Training a convolutional neural network"
      ]
    },
    {
      "cell_type": "code",
      "execution_count": 20,
      "metadata": {
        "id": "VTmJ4gx7eJfv"
      },
      "outputs": [],
      "source": [
        "def make_convet():\n",
        "    model = Sequential()\n",
        "\n",
        "    #before sending each pixel to the \"ordinary\" NN, we use convulational layers to shrink the feature map\n",
        "\n",
        "    model.add(Conv2D(16, kernel_size=(3, 3), activation='relu', input_shape=(64, 64, 3))) #We use 16 3x3 filters with the activation function 'relu'.\n",
        "\n",
        "    model.add(MaxPooling2D(pool_size=(2, 2))) #this goes though 2x2 non-overlapping pixels in the feature map after the filtering a chooses the maximum value.\n",
        "\n",
        "    model.add(Conv2D(32, kernel_size=(3, 3), activation='relu'))\n",
        "\n",
        "    model.add(MaxPooling2D(pool_size=(2, 2)))\n",
        "\n",
        "    model.add(Flatten())\n",
        "\n",
        "    #add the fully connected layers\n",
        "    model.add(Dense(128, activation='relu'))\n",
        "    model.add(Dense(1, activation='sigmoid')) #sigmoid for binary classification\n",
        "\n",
        "    model.compile(loss='binary_crossentropy', optimizer='adam', metrics='accuracy')\n",
        "\n",
        "    history = model.fit(train_generator,\n",
        "    steps_per_epoch=8,\n",
        "    epochs=15,\n",
        "    verbose=1,\n",
        "    validation_data = validation_generator,\n",
        "    validation_steps=8)\n",
        "\n",
        "    return history\n"
      ]
    },
    {
      "cell_type": "code",
      "execution_count": 21,
      "metadata": {},
      "outputs": [
        {
          "name": "stdout",
          "output_type": "stream",
          "text": [
            "Epoch 1/15\n",
            "8/8 [==============================] - 2s 147ms/step - loss: 0.7287 - accuracy: 0.5039 - val_loss: 0.6914 - val_accuracy: 0.4805\n",
            "Epoch 2/15\n",
            "8/8 [==============================] - 1s 132ms/step - loss: 0.6571 - accuracy: 0.6172 - val_loss: 0.6566 - val_accuracy: 0.6094\n",
            "Epoch 3/15\n",
            "8/8 [==============================] - 1s 134ms/step - loss: 0.6162 - accuracy: 0.7070 - val_loss: 0.5921 - val_accuracy: 0.6719\n",
            "Epoch 4/15\n",
            "8/8 [==============================] - 1s 131ms/step - loss: 0.6029 - accuracy: 0.6914 - val_loss: 0.5685 - val_accuracy: 0.7227\n",
            "Epoch 5/15\n",
            "8/8 [==============================] - 1s 162ms/step - loss: 0.5721 - accuracy: 0.7148 - val_loss: 0.5788 - val_accuracy: 0.6992\n",
            "Epoch 6/15\n",
            "8/8 [==============================] - 1s 140ms/step - loss: 0.5757 - accuracy: 0.6836 - val_loss: 0.6149 - val_accuracy: 0.6758\n",
            "Epoch 7/15\n",
            "8/8 [==============================] - 1s 127ms/step - loss: 0.5814 - accuracy: 0.6992 - val_loss: 0.5225 - val_accuracy: 0.7461\n",
            "Epoch 8/15\n",
            "8/8 [==============================] - 1s 124ms/step - loss: 0.5214 - accuracy: 0.7500 - val_loss: 0.5585 - val_accuracy: 0.7031\n",
            "Epoch 9/15\n",
            "8/8 [==============================] - 1s 131ms/step - loss: 0.5055 - accuracy: 0.7656 - val_loss: 0.5394 - val_accuracy: 0.7500\n",
            "Epoch 10/15\n",
            "8/8 [==============================] - 1s 124ms/step - loss: 0.4628 - accuracy: 0.7891 - val_loss: 0.4975 - val_accuracy: 0.7578\n",
            "Epoch 11/15\n",
            "8/8 [==============================] - 1s 134ms/step - loss: 0.4452 - accuracy: 0.8203 - val_loss: 0.4968 - val_accuracy: 0.7891\n",
            "Epoch 12/15\n",
            "8/8 [==============================] - 1s 133ms/step - loss: 0.4306 - accuracy: 0.8359 - val_loss: 0.5430 - val_accuracy: 0.7422\n",
            "Epoch 13/15\n",
            "8/8 [==============================] - 1s 130ms/step - loss: 0.4221 - accuracy: 0.8086 - val_loss: 0.5602 - val_accuracy: 0.7227\n",
            "Epoch 14/15\n",
            "8/8 [==============================] - 1s 134ms/step - loss: 0.4577 - accuracy: 0.8125 - val_loss: 0.5164 - val_accuracy: 0.7344\n",
            "Epoch 15/15\n",
            "8/8 [==============================] - 1s 129ms/step - loss: 0.4051 - accuracy: 0.8438 - val_loss: 0.5514 - val_accuracy: 0.7422\n"
          ]
        }
      ],
      "source": [
        "history = make_convet()"
      ]
    },
    {
      "attachments": {},
      "cell_type": "markdown",
      "metadata": {},
      "source": [
        "Plot of the training and validation loss for each epoch"
      ]
    },
    {
      "cell_type": "code",
      "execution_count": 24,
      "metadata": {},
      "outputs": [
        {
          "data": {
            "image/png": "[encoded data removed]",
            "text/plain": [
              "<Figure size 432x288 with 1 Axes>"
            ]
          },
          "metadata": {
            "needs_background": "light"
          },
          "output_type": "display_data"
        }
      ],
      "source": [
        "plt.plot(history.history['loss'])\n",
        "plt.plot(history.history['val_loss'])\n",
        "plt.title('loss for each epoch')\n",
        "plt.ylabel('loss')\n",
        "plt.xlabel('epoch')\n",
        "plt.legend(['train', 'val'], loc='upper right')\n",
        "plt.show()"
      ]
    },
    {
      "attachments": {},
      "cell_type": "markdown",
      "metadata": {},
      "source": [
        "Plot of the training and validation accuracies for each epoch"
      ]
    },
    {
      "cell_type": "code",
      "execution_count": 25,
      "metadata": {},
      "outputs": [
        {
          "data": {
            "image/png": "[encoded data removed]",
            "text/plain": [
              "<Figure size 432x288 with 1 Axes>"
            ]
          },
          "metadata": {
            "needs_background": "light"
          },
          "output_type": "display_data"
        }
      ],
      "source": [
        "plt.plot(history.history['accuracy'])\n",
        "plt.plot(history.history['val_accuracy'])\n",
        "plt.title('accuracy for each epoch')\n",
        "plt.ylabel('accuracy')\n",
        "plt.xlabel('epoch')\n",
        "plt.legend(['train', 'val'], loc='upper left')\n",
        "plt.show()"
      ]
    },
    {
      "attachments": {},
      "cell_type": "markdown",
      "metadata": {
        "id": "ZT_XdXBHeKBE"
      },
      "source": [
        "# Part 2: Data augmentation"
      ]
    },
    {
      "cell_type": "code",
      "execution_count": null,
      "metadata": {
        "id": "PsxSQGOOeNDs"
      },
      "outputs": [],
      "source": []
    },
    {
      "attachments": {},
      "cell_type": "markdown",
      "metadata": {
        "id": "L-u80lFtebcA"
      },
      "source": [
        "**Interlude: Applying a pre-trained convolutional neural network**"
      ]
    },
    {
      "cell_type": "code",
      "execution_count": null,
      "metadata": {
        "id": "x3VxIqX3ecoU"
      },
      "outputs": [],
      "source": []
    },
    {
      "attachments": {},
      "cell_type": "markdown",
      "metadata": {
        "id": "xUbhb2O9eNXR"
      },
      "source": [
        "# Part 3: Using VGG-16 as a feature extractor"
      ]
    },
    {
      "cell_type": "code",
      "execution_count": null,
      "metadata": {
        "id": "3DXHJNPeeTay"
      },
      "outputs": [],
      "source": []
    },
    {
      "attachments": {},
      "cell_type": "markdown",
      "metadata": {
        "id": "bEC7R_RkeTvm"
      },
      "source": [
        "# Part 4: Visualizing the learned features"
      ]
    },
    {
      "cell_type": "code",
      "execution_count": null,
      "metadata": {
        "id": "FC0SlR5PeXKX"
      },
      "outputs": [],
      "source": []
    }
  ],
  "metadata": {
    "colab": {
      "provenance": []
    },
    "kernelspec": {
      "display_name": "Python 3",
      "name": "python3"
    },
    "language_info": {
      "codemirror_mode": {
        "name": "ipython",
        "version": 3
      },
      "file_extension": ".py",
      "mimetype": "text/x-python",
      "name": "python",
      "nbconvert_exporter": "python",
      "pygments_lexer": "ipython3",
      "version": "3.9.7"
    }
  },
  "nbformat": 4,
  "nbformat_minor": 0
}
