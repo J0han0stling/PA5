{
  "cells": [
    {
      "attachments": {},
      "cell_type": "markdown",
      "metadata": {
        "id": "7IQfSeoCd59K"
      },
      "source": [
        "Hanna Olsson \n",
        "Johan Östling\n"
      ]
    },
    {
      "attachments": {},
      "cell_type": "markdown",
      "metadata": {
        "id": "73SR_klphtqH"
      },
      "source": [
        "# Imports"
      ]
    },
    {
      "cell_type": "code",
      "execution_count": 45,
      "metadata": {
        "id": "jXwLSNMZhZSu"
      },
      "outputs": [],
      "source": [
        "import tensorflow as tf\n",
        "from tensorflow import keras\n",
        "from PIL import Image, ImageDraw\n",
        "from tensorflow.keras.preprocessing.image import ImageDataGenerator\n",
        "from matplotlib import pyplot as plt\n",
        "from keras.models import Sequential\n",
        "from keras.layers import Conv2D, MaxPooling2D, Flatten, Dense\n",
        "import numpy as np\n",
        "\n"
      ]
    },
    {
      "attachments": {},
      "cell_type": "markdown",
      "metadata": {
        "id": "ifou8u5WlI5Y"
      },
      "source": [
        "**Mount to drive**"
      ]
    },
    {
      "attachments": {},
      "cell_type": "markdown",
      "metadata": {
        "id": "Pcrasr2keG3p"
      },
      "source": [
        "# Introduction"
      ]
    },
    {
      "cell_type": "code",
      "execution_count": 30,
      "metadata": {
        "colab": {
          "base_uri": "https://localhost:8080/"
        },
        "id": "JcKnqza4eJCj",
        "outputId": "b726664d-2d2a-4b5e-bc01-bd8005c720e2"
      },
      "outputs": [
        {
          "name": "stdout",
          "output_type": "stream",
          "text": [
            "Found 1600 images belonging to 2 classes.\n",
            "Found 576 images belonging to 2 classes.\n"
          ]
        }
      ],
      "source": [
        "data_gen = ImageDataGenerator(rescale=1.0/255)\n",
        "#?usp=share_link\n",
        "imgdir = r'\\Users\\johan\\OneDrive\\Dokument\\GitHub\\PA5\\a5_images' # or wherever you put them...\n",
        "img_size = 64\n",
        "batch_size = 32\n",
        "\n",
        "\n",
        "train_generator = data_gen.flow_from_directory(\n",
        "        imgdir + '/train',\n",
        "        target_size=(img_size, img_size),\n",
        "        batch_size=batch_size,\n",
        "        class_mode='binary',\n",
        "        classes=['other', 'car'],\n",
        "        seed=12345,\n",
        "        shuffle=True)\n",
        "\n",
        "validation_generator = data_gen.flow_from_directory(\n",
        "        imgdir + '/validation',\n",
        "        target_size=(img_size, img_size),\n",
        "        batch_size=batch_size,\n",
        "        class_mode='binary',\n",
        "        classes=['other', 'car'],\n",
        "        seed=12345,\n",
        "        shuffle=True)"
      ]
    },
    {
      "cell_type": "code",
      "execution_count": 31,
      "metadata": {
        "id": "9PTHnRXBnj2T"
      },
      "outputs": [],
      "source": [
        "Xbatch, Ybatch = train_generator.next()"
      ]
    },
    {
      "cell_type": "code",
      "execution_count": 32,
      "metadata": {},
      "outputs": [
        {
          "data": {
            "text/plain": [
              "(32, 64, 64, 3)"
            ]
          },
          "execution_count": 32,
          "metadata": {},
          "output_type": "execute_result"
        }
      ],
      "source": [
        "Xbatch.shape"
      ]
    },
    {
      "cell_type": "code",
      "execution_count": 33,
      "metadata": {},
      "outputs": [
        {
          "data": {
            "text/plain": [
              "0.0"
            ]
          },
          "execution_count": 33,
          "metadata": {},
          "output_type": "execute_result"
        },
        {
          "data": {
            "image/png": "[encoded data removed]",
            "text/plain": [
              "<Figure size 432x288 with 1 Axes>"
            ]
          },
          "metadata": {
            "needs_background": "light"
          },
          "output_type": "display_data"
        }
      ],
      "source": [
        "plt.imshow(Xbatch[5]);\n",
        "Ybatch[5]"
      ]
    },
    {
      "attachments": {},
      "cell_type": "markdown",
      "metadata": {
        "id": "h5_d22FweDmP"
      },
      "source": [
        "# Part 1: Training a convolutional neural network"
      ]
    },
    {
      "cell_type": "code",
      "execution_count": 34,
      "metadata": {
        "id": "VTmJ4gx7eJfv"
      },
      "outputs": [],
      "source": [
        "def make_convnet(train, validation):\n",
        "    model = Sequential()\n",
        "\n",
        "    #before sending each pixel to the \"ordinary\" NN, we use convulational layers to shrink the feature map\n",
        "\n",
        "    model.add(Conv2D(16, kernel_size=(3, 3), activation='relu', input_shape=(64, 64, 3))) #We use 16 3x3 filters with the activation function 'relu'.\n",
        "\n",
        "    model.add(MaxPooling2D(pool_size=(2, 2))) #this goes though 2x2 non-overlapping pixels in the feature map after the filtering a chooses the maximum value.\n",
        "\n",
        "    model.add(Conv2D(32, kernel_size=(3, 3), activation='relu'))\n",
        "\n",
        "    model.add(MaxPooling2D(pool_size=(2, 2)))\n",
        "\n",
        "    model.add(Flatten())\n",
        "\n",
        "    #add the fully connected layers\n",
        "    model.add(Dense(128, activation='relu'))\n",
        "    model.add(Dense(1, activation='sigmoid')) #sigmoid for binary classification\n",
        "\n",
        "    model.compile(loss='binary_crossentropy', optimizer='adam', metrics='accuracy')\n",
        "\n",
        "    history = model.fit(train,\n",
        "    steps_per_epoch=8,\n",
        "    epochs=15,\n",
        "    verbose=1,\n",
        "    validation_data = validation,\n",
        "    validation_steps=8)\n",
        "\n",
        "    return history\n"
      ]
    },
    {
      "cell_type": "code",
      "execution_count": 35,
      "metadata": {},
      "outputs": [
        {
          "name": "stdout",
          "output_type": "stream",
          "text": [
            "Epoch 1/15\n",
            "8/8 [==============================] - 2s 199ms/step - loss: 0.7210 - accuracy: 0.5156 - val_loss: 0.6797 - val_accuracy: 0.5312\n",
            "Epoch 2/15\n",
            "8/8 [==============================] - 1s 151ms/step - loss: 0.6603 - accuracy: 0.5820 - val_loss: 0.6290 - val_accuracy: 0.6836\n",
            "Epoch 3/15\n",
            "8/8 [==============================] - 1s 143ms/step - loss: 0.6192 - accuracy: 0.6836 - val_loss: 0.6067 - val_accuracy: 0.6641\n",
            "Epoch 4/15\n",
            "8/8 [==============================] - 1s 138ms/step - loss: 0.5787 - accuracy: 0.6992 - val_loss: 0.5820 - val_accuracy: 0.7188\n",
            "Epoch 5/15\n",
            "8/8 [==============================] - 1s 133ms/step - loss: 0.5366 - accuracy: 0.7461 - val_loss: 0.5425 - val_accuracy: 0.7383\n",
            "Epoch 6/15\n",
            "8/8 [==============================] - 1s 133ms/step - loss: 0.5389 - accuracy: 0.7383 - val_loss: 0.5388 - val_accuracy: 0.7344\n",
            "Epoch 7/15\n",
            "8/8 [==============================] - 1s 129ms/step - loss: 0.4866 - accuracy: 0.7617 - val_loss: 0.4861 - val_accuracy: 0.7773\n",
            "Epoch 8/15\n",
            "8/8 [==============================] - 1s 123ms/step - loss: 0.5010 - accuracy: 0.7539 - val_loss: 0.5315 - val_accuracy: 0.7422\n",
            "Epoch 9/15\n",
            "8/8 [==============================] - 1s 131ms/step - loss: 0.5033 - accuracy: 0.7461 - val_loss: 0.5397 - val_accuracy: 0.7305\n",
            "Epoch 10/15\n",
            "8/8 [==============================] - 1s 142ms/step - loss: 0.4708 - accuracy: 0.7891 - val_loss: 0.5556 - val_accuracy: 0.7539\n",
            "Epoch 11/15\n",
            "8/8 [==============================] - 1s 141ms/step - loss: 0.4626 - accuracy: 0.7852 - val_loss: 0.5600 - val_accuracy: 0.7266\n",
            "Epoch 12/15\n",
            "8/8 [==============================] - 1s 127ms/step - loss: 0.4761 - accuracy: 0.7969 - val_loss: 0.5434 - val_accuracy: 0.7500\n",
            "Epoch 13/15\n",
            "8/8 [==============================] - 1s 125ms/step - loss: 0.4238 - accuracy: 0.8320 - val_loss: 0.5977 - val_accuracy: 0.7266\n",
            "Epoch 14/15\n",
            "8/8 [==============================] - 1s 130ms/step - loss: 0.3930 - accuracy: 0.8438 - val_loss: 0.4903 - val_accuracy: 0.7656\n",
            "Epoch 15/15\n",
            "8/8 [==============================] - 1s 121ms/step - loss: 0.3758 - accuracy: 0.8320 - val_loss: 0.4780 - val_accuracy: 0.7812\n"
          ]
        }
      ],
      "source": [
        "history = make_convnet(train_generator, validation_generator)"
      ]
    },
    {
      "attachments": {},
      "cell_type": "markdown",
      "metadata": {},
      "source": [
        "Plot of the training and validation loss for each epoch"
      ]
    },
    {
      "cell_type": "code",
      "execution_count": 36,
      "metadata": {},
      "outputs": [
        {
          "data": {
            "image/png": "[encoded data removed]",
            "text/plain": [
              "<Figure size 432x288 with 1 Axes>"
            ]
          },
          "metadata": {
            "needs_background": "light"
          },
          "output_type": "display_data"
        }
      ],
      "source": [
        "plt.plot(history.history['loss'])\n",
        "plt.plot(history.history['val_loss'])\n",
        "plt.title('loss for each epoch')\n",
        "plt.ylabel('loss')\n",
        "plt.xlabel('epoch')\n",
        "plt.legend(['train', 'val'], loc='upper right')\n",
        "plt.show()"
      ]
    },
    {
      "attachments": {},
      "cell_type": "markdown",
      "metadata": {},
      "source": [
        "Plot of the training and validation accuracies for each epoch"
      ]
    },
    {
      "cell_type": "code",
      "execution_count": 37,
      "metadata": {},
      "outputs": [
        {
          "data": {
            "image/png": "[encoded data removed]",
            "text/plain": [
              "<Figure size 432x288 with 1 Axes>"
            ]
          },
          "metadata": {
            "needs_background": "light"
          },
          "output_type": "display_data"
        }
      ],
      "source": [
        "plt.plot(history.history['accuracy'])\n",
        "plt.plot(history.history['val_accuracy'])\n",
        "plt.title('accuracy for each epoch')\n",
        "plt.ylabel('accuracy')\n",
        "plt.xlabel('epoch')\n",
        "plt.legend(['train', 'val'], loc='upper left')\n",
        "plt.show()"
      ]
    },
    {
      "attachments": {},
      "cell_type": "markdown",
      "metadata": {
        "id": "ZT_XdXBHeKBE"
      },
      "source": [
        "# Part 2: Data augmentation"
      ]
    },
    {
      "cell_type": "code",
      "execution_count": 38,
      "metadata": {
        "id": "PsxSQGOOeNDs"
      },
      "outputs": [
        {
          "name": "stdout",
          "output_type": "stream",
          "text": [
            "Found 1600 images belonging to 2 classes.\n"
          ]
        }
      ],
      "source": [
        "data_gen_augmented = ImageDataGenerator(\n",
        "    rescale=1.0/255,\n",
        "    rotation_range=5,  # Randomly rotate images within the range of 5 degrees\n",
        "    horizontal_flip=True,  # Randomly flip images horizontally\n",
        "    brightness_range=(0.9, 1.1),  # Randomly adjust brightness between 0.9 and 1.1\n",
        "    channel_shift_range=5,  # Randomly shift colors within the range of 5\n",
        ")\n",
        "\n",
        "train_generator_augmented = data_gen_augmented.flow_from_directory(\n",
        "    imgdir + '/train',\n",
        "    target_size=(img_size, img_size),\n",
        "    batch_size=batch_size,\n",
        "    class_mode='binary',\n",
        "    classes=['other', 'car'],\n",
        "    seed=12345,\n",
        "    shuffle=True\n",
        ")\n",
        "\n"
      ]
    },
    {
      "cell_type": "code",
      "execution_count": 39,
      "metadata": {},
      "outputs": [
        {
          "name": "stdout",
          "output_type": "stream",
          "text": [
            "Epoch 1/15\n",
            "8/8 [==============================] - 2s 173ms/step - loss: 0.6957 - accuracy: 0.5898 - val_loss: 0.6532 - val_accuracy: 0.6562\n",
            "Epoch 2/15\n",
            "8/8 [==============================] - 1s 156ms/step - loss: 0.6376 - accuracy: 0.6523 - val_loss: 0.5739 - val_accuracy: 0.7266\n",
            "Epoch 3/15\n",
            "8/8 [==============================] - 1s 156ms/step - loss: 0.5825 - accuracy: 0.6992 - val_loss: 0.6102 - val_accuracy: 0.6641\n",
            "Epoch 4/15\n",
            "8/8 [==============================] - 1s 158ms/step - loss: 0.5163 - accuracy: 0.7344 - val_loss: 0.5915 - val_accuracy: 0.6719\n",
            "Epoch 5/15\n",
            "8/8 [==============================] - 1s 161ms/step - loss: 0.5966 - accuracy: 0.6797 - val_loss: 0.5228 - val_accuracy: 0.7422\n",
            "Epoch 6/15\n",
            "8/8 [==============================] - 1s 158ms/step - loss: 0.5631 - accuracy: 0.6953 - val_loss: 0.5543 - val_accuracy: 0.7422\n",
            "Epoch 7/15\n",
            "8/8 [==============================] - 1s 163ms/step - loss: 0.5304 - accuracy: 0.7656 - val_loss: 0.5690 - val_accuracy: 0.7227\n",
            "Epoch 8/15\n",
            "8/8 [==============================] - 1s 175ms/step - loss: 0.4913 - accuracy: 0.7695 - val_loss: 0.5329 - val_accuracy: 0.7188\n",
            "Epoch 9/15\n",
            "8/8 [==============================] - 1s 185ms/step - loss: 0.4903 - accuracy: 0.7695 - val_loss: 0.5681 - val_accuracy: 0.7109\n",
            "Epoch 10/15\n",
            "8/8 [==============================] - 1s 176ms/step - loss: 0.4908 - accuracy: 0.7852 - val_loss: 0.5952 - val_accuracy: 0.7109\n",
            "Epoch 11/15\n",
            "8/8 [==============================] - 1s 177ms/step - loss: 0.4637 - accuracy: 0.7930 - val_loss: 0.4711 - val_accuracy: 0.7969\n",
            "Epoch 12/15\n",
            "8/8 [==============================] - 1s 182ms/step - loss: 0.4774 - accuracy: 0.7852 - val_loss: 0.4547 - val_accuracy: 0.8047\n",
            "Epoch 13/15\n",
            "8/8 [==============================] - 1s 177ms/step - loss: 0.4520 - accuracy: 0.7852 - val_loss: 0.4895 - val_accuracy: 0.7852\n",
            "Epoch 14/15\n",
            "8/8 [==============================] - 1s 171ms/step - loss: 0.4279 - accuracy: 0.8047 - val_loss: 0.5501 - val_accuracy: 0.7500\n",
            "Epoch 15/15\n",
            "8/8 [==============================] - 1s 173ms/step - loss: 0.4206 - accuracy: 0.7891 - val_loss: 0.5259 - val_accuracy: 0.7344\n"
          ]
        }
      ],
      "source": [
        "history_aug = make_convnet(train_generator_augmented, validation_generator)"
      ]
    },
    {
      "cell_type": "code",
      "execution_count": 40,
      "metadata": {},
      "outputs": [
        {
          "data": {
            "image/png": "[encoded data removed]",
            "text/plain": [
              "<Figure size 432x288 with 1 Axes>"
            ]
          },
          "metadata": {
            "needs_background": "light"
          },
          "output_type": "display_data"
        }
      ],
      "source": [
        "plt.plot(history_aug.history['loss'])\n",
        "plt.plot(history_aug.history['val_loss'])\n",
        "plt.title('loss for each epoch')\n",
        "plt.ylabel('loss')\n",
        "plt.xlabel('epoch')\n",
        "plt.legend(['train', 'val'], loc='upper right')\n",
        "plt.show()"
      ]
    },
    {
      "cell_type": "code",
      "execution_count": 41,
      "metadata": {},
      "outputs": [
        {
          "data": {
            "image/png": "[encoded data removed]",
            "text/plain": [
              "<Figure size 432x288 with 1 Axes>"
            ]
          },
          "metadata": {
            "needs_background": "light"
          },
          "output_type": "display_data"
        }
      ],
      "source": [
        "plt.plot(history_aug.history['accuracy'])\n",
        "plt.plot(history_aug.history['val_accuracy'])\n",
        "plt.title('accuracy for each epoch')\n",
        "plt.ylabel('accuracy')\n",
        "plt.xlabel('epoch')\n",
        "plt.legend(['train', 'val'], loc='upper left')\n",
        "plt.show()"
      ]
    },
    {
      "attachments": {},
      "cell_type": "markdown",
      "metadata": {},
      "source": [
        "From our plots we can still see that the model is overfitting. Compared to the model when it used non-augmented training data there could be a difference, but it is not clear when looking at the plots. Perhaps it would be more clear if we had bigger instance of training data, because intuively it is reasonable that using augmented training data would make the model better at generalising to new data and therefore decreasing its overfitting. But from the plots we have done, we can't make any conclusions. \n",
        "\n",
        "When playing around with parameters of the augmentation, we noticed that when making the parameters high, like rotating with 30 degrees and shift colours by 50, the model started to underfit. This is probably because the images become to random and it gets hard for the model to recognise patterns in the images. Therefore we changed the parameters to smaller values, and then the model stopped underfitting. Even though we did not see any improvements in terms of overfitting when augementing the training data, we believe that the tradeoff betweeen underfitting and overfitting when using augmented data is that putting high parameters values for the augmentation, increases underfitting, and putting to small parameters makes the model more likely to overfit. Hence the parameters needs to be just right to balance the tradeoff between underfitting and overfitting. "
      ]
    },
    {
      "attachments": {},
      "cell_type": "markdown",
      "metadata": {
        "id": "L-u80lFtebcA"
      },
      "source": [
        "**Interlude: Applying a pre-trained convolutional neural network**"
      ]
    },
    {
      "cell_type": "code",
      "execution_count": 42,
      "metadata": {
        "id": "x3VxIqX3ecoU"
      },
      "outputs": [
        {
          "name": "stdout",
          "output_type": "stream",
          "text": [
            "Downloading data from https://storage.googleapis.com/tensorflow/keras-applications/vgg16/vgg16_weights_tf_dim_ordering_tf_kernels.h5\n",
            "553467904/553467096 [==============================] - 56s 0us/step\n",
            "553476096/553467096 [==============================] - 56s 0us/step\n"
          ]
        }
      ],
      "source": [
        "from tensorflow.keras import applications\n",
        "from tensorflow.keras.preprocessing.image import load_img, img_to_array\n",
        "from tensorflow.keras.applications.vgg16 import decode_predictions, preprocess_input\n",
        "\n",
        "vggmodel = applications.VGG16(weights='imagenet', include_top=True)"
      ]
    },
    {
      "cell_type": "code",
      "execution_count": 43,
      "metadata": {},
      "outputs": [
        {
          "name": "stdout",
          "output_type": "stream",
          "text": [
            "Downloading data from https://storage.googleapis.com/download.tensorflow.org/data/imagenet_class_index.json\n",
            "40960/35363 [==================================] - 0s 0us/step\n",
            "49152/35363 [=========================================] - 0s 0us/step\n"
          ]
        },
        {
          "data": {
            "text/plain": [
              "[('n03345487', 'fire_engine', 0.2906942),\n",
              " ('n04461696', 'tow_truck', 0.22112109),\n",
              " ('n03478589', 'half_track', 0.10861475)]"
            ]
          },
          "execution_count": 43,
          "metadata": {},
          "output_type": "execute_result"
        }
      ],
      "source": [
        "from tensorflow.keras.applications.vgg16 import decode_predictions\n",
        "\n",
        "\n",
        "image = load_img(r'\\Users\\johan\\OneDrive\\Dokument\\GitHub\\PA5\\a5_images/train/car/0005.jpg', target_size=(224,224)) #Image is a racing car\n",
        "image_arr = img_to_array(image)\n",
        "image_proc = preprocess_input(image_arr)\n",
        "image_final = image_proc.reshape(1, 224, 224, 3)\n",
        "pred = vggmodel.predict(image_final)\n",
        "decoded_pred = decode_predictions(pred, top=3)[0]\n",
        "decoded_pred"
      ]
    },
    {
      "attachments": {},
      "cell_type": "markdown",
      "metadata": {},
      "source": [
        "Looking at the top three precdictions, all of them are different types of cars so in that sense the predictions make sense. However the provided image was a racing car which does not correspond with any of the predictions (fire engine, tow truck and half track). So in conclusion this model is good at predicting wheter the image is a car or not, but fails to specify which type of car."
      ]
    },
    {
      "attachments": {},
      "cell_type": "markdown",
      "metadata": {
        "id": "xUbhb2O9eNXR"
      },
      "source": [
        "# Part 3: Using VGG-16 as a feature extractor"
      ]
    },
    {
      "cell_type": "code",
      "execution_count": 44,
      "metadata": {
        "id": "3DXHJNPeeTay"
      },
      "outputs": [
        {
          "name": "stdout",
          "output_type": "stream",
          "text": [
            "Downloading data from https://storage.googleapis.com/tensorflow/keras-applications/vgg16/vgg16_weights_tf_dim_ordering_tf_kernels_notop.h5\n",
            "58892288/58889256 [==============================] - 6s 0us/step\n",
            "58900480/58889256 [==============================] - 6s 0us/step\n"
          ]
        }
      ],
      "source": [
        "feature_extractor = applications.VGG16(include_top=False, weights='imagenet', input_shape=(64, 64, 3))\n",
        "\n",
        "vgg_data_gen = ImageDataGenerator(preprocessing_function=preprocess_input)"
      ]
    },
    {
      "cell_type": "code",
      "execution_count": 48,
      "metadata": {},
      "outputs": [],
      "source": [
        "imgdir = r'\\Users\\johan\\OneDrive\\Dokument\\GitHub\\PA5\\a5_images' # or wherever you put them...\n",
        "img_size = 64\n",
        "batch_size = 32\n",
        "\n",
        "def create_vgg16_features(dataset):\n",
        "    train_generator_vgg = vgg_data_gen.flow_from_directory(\n",
        "            imgdir + '/'+ dataset,\n",
        "            target_size=(img_size, img_size),\n",
        "            batch_size=batch_size,\n",
        "            class_mode='binary',\n",
        "            classes=['other', 'car'],\n",
        "            seed=12345,\n",
        "            shuffle=False)\n",
        "    \n",
        "    cnn_features = feature_extractor.predict(train_generator_vgg)\n",
        "\n",
        "    with open(dataset + '_features', 'wb') as f:\n",
        "        np.save(f, cnn_features)\n"
      ]
    },
    {
      "cell_type": "code",
      "execution_count": 49,
      "metadata": {},
      "outputs": [
        {
          "name": "stdout",
          "output_type": "stream",
          "text": [
            "Found 1600 images belonging to 2 classes.\n",
            "Found 576 images belonging to 2 classes.\n"
          ]
        }
      ],
      "source": [
        "create_vgg16_features('train')\n",
        "create_vgg16_features('validation')"
      ]
    },
    {
      "cell_type": "code",
      "execution_count": 51,
      "metadata": {},
      "outputs": [],
      "source": [
        "def train_on_cnnfeatures(train_file, val_file):\n",
        "    with open(train_file, 'rb') as f:\n",
        "        x_train = np.load(f)\n",
        "        y_train = get_labels(len(x_train))\n",
        "        \n",
        "    with open(val_file, 'rb') as f:\n",
        "        x_val = np.load(f)\n",
        "        y_val = get_labels(len(x_val))\n",
        "\n",
        "    model = Sequential()\n",
        "\n",
        "    model.add(Flatten())\n",
        "\n",
        "    #add the fully connected layers\n",
        "    model.add(Dense(128, activation='relu'))\n",
        "    model.add(Dense(1, activation='sigmoid')) #sigmoid for binary classification\n",
        "\n",
        "    model.compile(loss='binary_crossentropy', optimizer='adam', metrics='accuracy')\n",
        "\n",
        "    history = model.fit(x = x_train,\n",
        "                        y = y_train,\n",
        "                        steps_per_epoch=8,\n",
        "                        epochs=15,\n",
        "                        verbose=1,\n",
        "                        validation_data = (x_val, y_val),\n",
        "                        validation_steps=8)\n",
        "\n",
        "    return history\n",
        "\n",
        "\n",
        "def get_labels(n):\n",
        "    return np.array([0]*(n//2) + [1]*(n//2))\n",
        "    "
      ]
    },
    {
      "cell_type": "code",
      "execution_count": 52,
      "metadata": {},
      "outputs": [
        {
          "name": "stdout",
          "output_type": "stream",
          "text": [
            "Epoch 1/15\n",
            "8/8 [==============================] - 1s 27ms/step - loss: 3.2736 - accuracy: 0.7900 - val_loss: 2.4078 - val_accuracy: 0.8750\n",
            "Epoch 2/15\n",
            "8/8 [==============================] - 0s 10ms/step - loss: 0.8280 - accuracy: 0.9237 - val_loss: 1.4709 - val_accuracy: 0.8837\n",
            "Epoch 3/15\n",
            "8/8 [==============================] - 0s 10ms/step - loss: 0.1811 - accuracy: 0.9694 - val_loss: 1.1470 - val_accuracy: 0.8889\n",
            "Epoch 4/15\n",
            "8/8 [==============================] - 0s 9ms/step - loss: 0.0369 - accuracy: 0.9906 - val_loss: 1.0529 - val_accuracy: 0.8906\n",
            "Epoch 5/15\n",
            "8/8 [==============================] - 0s 10ms/step - loss: 0.0092 - accuracy: 0.9969 - val_loss: 1.0330 - val_accuracy: 0.8941\n",
            "Epoch 6/15\n",
            "8/8 [==============================] - 0s 10ms/step - loss: 0.0027 - accuracy: 0.9994 - val_loss: 1.0332 - val_accuracy: 0.8941\n",
            "Epoch 7/15\n",
            "8/8 [==============================] - 0s 9ms/step - loss: 0.0011 - accuracy: 1.0000 - val_loss: 1.0335 - val_accuracy: 0.8958\n",
            "Epoch 8/15\n",
            "8/8 [==============================] - 0s 8ms/step - loss: 4.3914e-04 - accuracy: 1.0000 - val_loss: 1.0334 - val_accuracy: 0.8941\n",
            "Epoch 9/15\n",
            "8/8 [==============================] - 0s 9ms/step - loss: 3.0730e-04 - accuracy: 1.0000 - val_loss: 1.0339 - val_accuracy: 0.8924\n",
            "Epoch 10/15\n",
            "8/8 [==============================] - 0s 10ms/step - loss: 2.3851e-04 - accuracy: 1.0000 - val_loss: 1.0344 - val_accuracy: 0.8924\n",
            "Epoch 11/15\n",
            "8/8 [==============================] - 0s 9ms/step - loss: 2.1637e-04 - accuracy: 1.0000 - val_loss: 1.0350 - val_accuracy: 0.8906\n",
            "Epoch 12/15\n",
            "8/8 [==============================] - 0s 9ms/step - loss: 1.8537e-04 - accuracy: 1.0000 - val_loss: 1.0358 - val_accuracy: 0.8906\n",
            "Epoch 13/15\n",
            "8/8 [==============================] - 0s 9ms/step - loss: 1.6933e-04 - accuracy: 1.0000 - val_loss: 1.0367 - val_accuracy: 0.8906\n",
            "Epoch 14/15\n",
            "8/8 [==============================] - 0s 9ms/step - loss: 1.5847e-04 - accuracy: 1.0000 - val_loss: 1.0377 - val_accuracy: 0.8906\n",
            "Epoch 15/15\n",
            "8/8 [==============================] - 0s 8ms/step - loss: 1.4603e-04 - accuracy: 1.0000 - val_loss: 1.0386 - val_accuracy: 0.8906\n"
          ]
        }
      ],
      "source": [
        "history_vgg = train_on_cnnfeatures('train_features', 'validation_features')"
      ]
    },
    {
      "attachments": {},
      "cell_type": "markdown",
      "metadata": {},
      "source": [
        "We can see that the accruacy this time is 100% on the training set and 89% on the validation set. So it is significantly higher than when we used our own CNN. We have two reasons for this. First is that we trust the creators of VGG to make the convolutional layers in their CNN more optimal than what we did because of our lack of experience compared to these creators. The second reason is because the VGG has been pre-trained on much more and diverse data than what we have available, their convolutional layers has been set with more optimal filters, biases and weights. "
      ]
    },
    {
      "attachments": {},
      "cell_type": "markdown",
      "metadata": {
        "id": "bEC7R_RkeTvm"
      },
      "source": [
        "# Part 4: Visualizing the learned features"
      ]
    },
    {
      "cell_type": "code",
      "execution_count": 53,
      "metadata": {
        "id": "FC0SlR5PeXKX"
      },
      "outputs": [
        {
          "data": {
            "text/plain": [
              "(3, 3, 3, 64)"
            ]
          },
          "execution_count": 53,
          "metadata": {},
          "output_type": "execute_result"
        }
      ],
      "source": [
        "first_layer_weights = vggmodel.get_weights()[0]\n",
        "first_layer_weights.shape"
      ]
    },
    {
      "cell_type": "code",
      "execution_count": 54,
      "metadata": {},
      "outputs": [],
      "source": [
        "def kernel_image(weights, i, positive):\n",
        "    \n",
        "    # extract the convolutional kernel at position i\n",
        "    k = weights[:,:,:,i].copy()\n",
        "    if not positive:\n",
        "        k = -k\n",
        "    \n",
        "    # clip the values: if we're looking for positive\n",
        "    # values, just keep the positive part; vice versa\n",
        "    # for the negative values.\n",
        "    k *= k > 0\n",
        "\n",
        "    # rescale the colors, to make the images less dark\n",
        "    m = k.max()\n",
        "    if m > 1e-3:\n",
        "        k /= m \n",
        "\n",
        "    return k"
      ]
    },
    {
      "cell_type": "code",
      "execution_count": 56,
      "metadata": {},
      "outputs": [
        {
          "data": {
            "image/png": "[encoded data removed]",
            "text/plain": [
              "<Figure size 432x288 with 1 Axes>"
            ]
          },
          "metadata": {
            "needs_background": "light"
          },
          "output_type": "display_data"
        },
        {
          "data": {
            "text/plain": [
              "<matplotlib.image.AxesImage at 0x21582c6ecd0>"
            ]
          },
          "execution_count": 56,
          "metadata": {},
          "output_type": "execute_result"
        },
        {
          "data": {
            "image/png": "[encoded data removed]",
            "text/plain": [
              "<Figure size 432x288 with 1 Axes>"
            ]
          },
          "metadata": {
            "needs_background": "light"
          },
          "output_type": "display_data"
        }
      ],
      "source": [
        "pos = kernel_image(first_layer_weights, 1, positive=True)\n",
        "neg = kernel_image(first_layer_weights, 1, positive=False)\n",
        "plt.imshow(pos)\n",
        "plt.show()\n",
        "plt.imshow(neg)"
      ]
    },
    {
      "cell_type": "code",
      "execution_count": 57,
      "metadata": {},
      "outputs": [
        {
          "data": {
            "image/png": "[encoded data removed]",
            "text/plain": [
              "<Figure size 432x288 with 1 Axes>"
            ]
          },
          "metadata": {
            "needs_background": "light"
          },
          "output_type": "display_data"
        },
        {
          "data": {
            "text/plain": [
              "<matplotlib.image.AxesImage at 0x21582d2de20>"
            ]
          },
          "execution_count": 57,
          "metadata": {},
          "output_type": "execute_result"
        },
        {
          "data": {
            "image/png": "[encoded data removed]",
            "text/plain": [
              "<Figure size 432x288 with 1 Axes>"
            ]
          },
          "metadata": {
            "needs_background": "light"
          },
          "output_type": "display_data"
        }
      ],
      "source": [
        "pos = kernel_image(first_layer_weights, 2, positive=True)\n",
        "neg = kernel_image(first_layer_weights, 2, positive=False)\n",
        "plt.imshow(pos)\n",
        "plt.show()\n",
        "plt.imshow(neg)"
      ]
    }
  ],
  "metadata": {
    "colab": {
      "provenance": []
    },
    "kernelspec": {
      "display_name": "Python 3",
      "name": "python3"
    },
    "language_info": {
      "codemirror_mode": {
        "name": "ipython",
        "version": 3
      },
      "file_extension": ".py",
      "mimetype": "text/x-python",
      "name": "python",
      "nbconvert_exporter": "python",
      "pygments_lexer": "ipython3",
      "version": "3.9.7"
    }
  },
  "nbformat": 4,
  "nbformat_minor": 0
}
