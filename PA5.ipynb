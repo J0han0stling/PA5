{
  "nbformat": 4,
  "nbformat_minor": 0,
  "metadata": {
    "colab": {
      "provenance": []
    },
    "kernelspec": {
      "name": "python3",
      "display_name": "Python 3"
    },
    "language_info": {
      "name": "python"
    }
  },
  "cells": [
    {
      "cell_type": "markdown",
      "source": [
        "Hanna Olsson \n",
        "Johan Östling\n"
      ],
      "metadata": {
        "id": "7IQfSeoCd59K"
      }
    },
    {
      "cell_type": "code",
      "source": [
        "!pip install tensorflow"
      ],
      "metadata": {
        "id": "LBzkHykch0Cw"
      },
      "execution_count": null,
      "outputs": []
    },
    {
      "cell_type": "code",
      "source": [
        "!pip install keras"
      ],
      "metadata": {
        "id": "4J2-7wbogjiA"
      },
      "execution_count": null,
      "outputs": []
    },
    {
      "cell_type": "code",
      "source": [
        "!pip install Pillow"
      ],
      "metadata": {
        "id": "XvXkivk9hiid"
      },
      "execution_count": null,
      "outputs": []
    },
    {
      "cell_type": "markdown",
      "source": [
        "# Imports"
      ],
      "metadata": {
        "id": "73SR_klphtqH"
      }
    },
    {
      "cell_type": "code",
      "source": [
        "import keras\n",
        "from PIL import Image, ImageDraw, ImageFont\n"
      ],
      "metadata": {
        "id": "jXwLSNMZhZSu"
      },
      "execution_count": 12,
      "outputs": []
    },
    {
      "cell_type": "markdown",
      "source": [
        "**Mount to drive**"
      ],
      "metadata": {
        "id": "ifou8u5WlI5Y"
      }
    },
    {
      "cell_type": "code",
      "source": [
        "from google.colab import drive\n",
        "\n",
        "drive.mount('/content/drive')\n"
      ],
      "metadata": {
        "colab": {
          "base_uri": "https://localhost:8080/"
        },
        "id": "ne9dZHNnlH67",
        "outputId": "d01e887f-7cd2-4a56-f9c7-b61ff4810869"
      },
      "execution_count": 23,
      "outputs": [
        {
          "output_type": "stream",
          "name": "stdout",
          "text": [
            "Drive already mounted at /content/drive; to attempt to forcibly remount, call drive.mount(\"/content/drive\", force_remount=True).\n"
          ]
        }
      ]
    },
    {
      "cell_type": "markdown",
      "source": [
        "# Introduction"
      ],
      "metadata": {
        "id": "Pcrasr2keG3p"
      }
    },
    {
      "cell_type": "code",
      "source": [
        "from tensorflow.keras.preprocessing.image import ImageDataGenerator\n",
        "\n",
        "data_gen = ImageDataGenerator(rescale=1.0/255)\n",
        "#?usp=share_link\n",
        "imgdir = '/content/drive/MyDrive/1KjQ-TBLBsRQ21vLtSZ7SYGKnGtbI0IKC' # or wherever you put them...\n",
        "img_size = 64\n",
        "batch_size = 32\n",
        "\n",
        "train_generator = data_gen.flow_from_directory(\n",
        "        imgdir + '/train',\n",
        "        target_size=(img_size, img_size),\n",
        "        batch_size=batch_size,\n",
        "        class_mode='binary',\n",
        "        classes=['other', 'car'],\n",
        "        seed=12345,\n",
        "        shuffle=True)"
      ],
      "metadata": {
        "id": "JcKnqza4eJCj",
        "colab": {
          "base_uri": "https://localhost:8080/"
        },
        "outputId": "b726664d-2d2a-4b5e-bc01-bd8005c720e2"
      },
      "execution_count": 26,
      "outputs": [
        {
          "output_type": "stream",
          "name": "stdout",
          "text": [
            "Found 0 images belonging to 2 classes.\n"
          ]
        }
      ]
    },
    {
      "cell_type": "code",
      "source": [
        "Xbatch, Ybatch = train_generator.next()"
      ],
      "metadata": {
        "id": "9PTHnRXBnj2T"
      },
      "execution_count": 21,
      "outputs": []
    },
    {
      "cell_type": "markdown",
      "source": [
        "# Part 1: Training a convolutional neural network"
      ],
      "metadata": {
        "id": "h5_d22FweDmP"
      }
    },
    {
      "cell_type": "code",
      "source": [],
      "metadata": {
        "id": "VTmJ4gx7eJfv"
      },
      "execution_count": null,
      "outputs": []
    },
    {
      "cell_type": "markdown",
      "source": [
        "# Part 2: Data augmentation"
      ],
      "metadata": {
        "id": "ZT_XdXBHeKBE"
      }
    },
    {
      "cell_type": "code",
      "source": [],
      "metadata": {
        "id": "PsxSQGOOeNDs"
      },
      "execution_count": null,
      "outputs": []
    },
    {
      "cell_type": "markdown",
      "source": [
        "**Interlude: Applying a pre-trained convolutional neural network**"
      ],
      "metadata": {
        "id": "L-u80lFtebcA"
      }
    },
    {
      "cell_type": "code",
      "source": [],
      "metadata": {
        "id": "x3VxIqX3ecoU"
      },
      "execution_count": null,
      "outputs": []
    },
    {
      "cell_type": "markdown",
      "source": [
        "# Part 3: Using VGG-16 as a feature extractor"
      ],
      "metadata": {
        "id": "xUbhb2O9eNXR"
      }
    },
    {
      "cell_type": "code",
      "source": [],
      "metadata": {
        "id": "3DXHJNPeeTay"
      },
      "execution_count": null,
      "outputs": []
    },
    {
      "cell_type": "markdown",
      "source": [
        "# Part 4: Visualizing the learned features"
      ],
      "metadata": {
        "id": "bEC7R_RkeTvm"
      }
    },
    {
      "cell_type": "code",
      "source": [],
      "metadata": {
        "id": "FC0SlR5PeXKX"
      },
      "execution_count": null,
      "outputs": []
    }
  ]
}